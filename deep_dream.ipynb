{
 "cells": [
  {
   "cell_type": "code",
   "execution_count": null,
   "metadata": {},
   "outputs": [],
   "source": [
    "import tensorflow as tf\n",
    "import numpy as np\n",
    "from scipy.ndimage.filters import gaussian_filter"
   ]
  },
  {
   "cell_type": "code",
   "execution_count": null,
   "metadata": {},
   "outputs": [],
   "source": [
    "from utils import *\n",
    "import inception"
   ]
  },
  {
   "cell_type": "code",
   "execution_count": null,
   "metadata": {},
   "outputs": [],
   "source": [
    "inception.download_model()"
   ]
  },
  {
   "cell_type": "code",
   "execution_count": null,
   "metadata": {},
   "outputs": [],
   "source": [
    "model = inception.Inception5H()"
   ]
  },
  {
   "cell_type": "code",
   "execution_count": null,
   "metadata": {},
   "outputs": [],
   "source": [
    "def get_optimal_tile_size(image_dim, tile_size):\n",
    "    # Get the number of tiles\n",
    "    num_tiles = int(round(image_dim / tile_size))\n",
    "    \n",
    "    # Ensure that there must be atleat one tile\n",
    "    max_tiles = max(1, num_tiles)\n",
    "    optim_tile_size = image_dim // max_tiles\n",
    "    \n",
    "    return optim_tile_size"
   ]
  },
  {
   "cell_type": "code",
   "execution_count": null,
   "metadata": {},
   "outputs": [],
   "source": [
    "def calculate_gradient(image, gradient, tile_size):\n",
    "    \n",
    "    # Initialize the grads to zero\n",
    "    grads = np.zeros_like(image)\n",
    "\n",
    "    # Max dimensions\n",
    "    x_max = image.shape[1]\n",
    "    y_max = image.shape[2]\n",
    "    \n",
    "    # Get optimal tile sizes\n",
    "    x_tile_size = get_optimal_tile_size(x_max, tile_size)\n",
    "    y_tile_size = get_optimal_tile_size(y_max, tile_size)\n",
    "    \n",
    "    # Init random x_start\n",
    "    x_start = np.random.randint(-3*x_tile_size//4, -x_tile_size//4)\n",
    "        \n",
    "    while x_start < x_max:\n",
    "        x_end = x_start + x_tile_size\n",
    "        lim_x_start = max(0, x_start)\n",
    "        lim_x_end = min(x_end, x_max)\n",
    "        \n",
    "        y_start = np.random.randint(-3*y_tile_size//4, -y_tile_size//4)\n",
    "        \n",
    "        while y_start < y_max:\n",
    "            y_end = y_start + y_tile_size\n",
    "            lim_y_start = max(0, y_start)\n",
    "            lim_y_end = min(y_end, y_max)\n",
    "            \n",
    "            img = image[:, lim_x_start:lim_x_end, lim_y_start:lim_y_end, :]\n",
    "            \n",
    "            feed_dict = model.get_feed_dict(img)\n",
    "            g = sess.run(gradient, feed_dict)\n",
    "            g /= (np.std(g) + 1e-8) \n",
    "            grads[:, lim_x_start:lim_x_end, lim_y_start:lim_y_end, :] += g\n",
    "            y_start = y_end\n",
    "        \n",
    "        x_start = x_end\n",
    "    \n",
    "    return grads"
   ]
  },
  {
   "cell_type": "code",
   "execution_count": null,
   "metadata": {},
   "outputs": [],
   "source": [
    "def optimize_image(image, layer, num_iterations, step_size, tile_size, plot_gradient = False):\n",
    "    \n",
    "    # Plot the image to be optimized\n",
    "    print('Before Optimization')\n",
    "    plot_image(image)\n",
    "    \n",
    "    image = model.preprocess_image(image)\n",
    "    \n",
    "    # Get the gradient\n",
    "    gradient = model.get_gradient(layer)\n",
    "    for it in range(num_iterations):\n",
    "        grad = calculate_gradient(image, gradient, tile_size)\n",
    "        \n",
    "        # Make the gradient smooth\n",
    "        sigma = (it * 4.0) / num_iterations + 0.5\n",
    "        grad_smooth1 = gaussian_filter(grad, sigma=sigma)\n",
    "        grad_smooth2 = gaussian_filter(grad, sigma=sigma*2)\n",
    "        grad_smooth3 = gaussian_filter(grad, sigma=sigma*0.5)\n",
    "        grad = (grad_smooth1 + grad_smooth2 + grad_smooth3)\n",
    "                         \n",
    "        # Update the image\n",
    "        image += step_size*grad\n",
    "        \n",
    "        # Plot the gradients\n",
    "        if plot_gradient:\n",
    "          print(f'Iteration: {it+1}')\n",
    "          plot_gradients(grad)\n",
    "    \n",
    "    image = model.depreprocess_image(image)\n",
    "    \n",
    "    # Plot the optimized image\n",
    "    print('After optimization')\n",
    "    plot_image(image)\n",
    "       \n",
    "    return image"
   ]
  },
  {
   "cell_type": "code",
   "execution_count": null,
   "metadata": {},
   "outputs": [],
   "source": [
    "def recursive_optimize(image, layer, n_octave=3, num_iterations=10, step_size=3, tile_size=400, size_factor=0.7, blend = 0.2, plot_gradient = False):\n",
    "    if n_octave > 0:\n",
    "        \n",
    "        # Downscale dthe image\n",
    "        image_downscaled = resize_image(image, factor = size_factor)\n",
    "        \n",
    "        # Optimize the downscaled image recursively\n",
    "        image_optimized = recursive_optimize(image_downscaled, layer, n_octave-1, num_iterations, step_size, tile_size, size_factor, blend)\n",
    "        \n",
    "        # Upscale the optimized image\n",
    "        image_upscaled = resize_image(image_optimized, shape = image.shape)\n",
    "        \n",
    "        # Add both the images\n",
    "        image = blend*image + (1-blend)*image_upscaled\n",
    "    \n",
    "    print(f'Recursive step: {n_octave + 1}')\n",
    "    \n",
    "    # Then again optimize the image\n",
    "    new_image = optimize_image(image, layer, num_iterations, step_size, tile_size, plot_gradient)\n",
    "    \n",
    "    return new_image"
   ]
  },
  {
   "cell_type": "code",
   "execution_count": null,
   "metadata": {},
   "outputs": [],
   "source": [
    "image = load_image('./images/content/content8.jpg', factor = 1.0)\n",
    "image.shape"
   ]
  },
  {
   "cell_type": "code",
   "execution_count": null,
   "metadata": {},
   "outputs": [],
   "source": [
    "layer = model.layers[3]\n",
    "model.features[3]"
   ]
  },
  {
   "cell_type": "code",
   "execution_count": null,
   "metadata": {},
   "outputs": [],
   "source": [
    "sess = tf.Session(graph=model.graph)\n",
    "new_image = recursive_optimize(image, layer)"
   ]
  },
  {
   "cell_type": "code",
   "execution_count": null,
   "metadata": {},
   "outputs": [],
   "source": [
    "sess.close()"
   ]
  },
  {
   "cell_type": "code",
   "execution_count": null,
   "metadata": {},
   "outputs": [],
   "source": [
    "save_image('./images/generated/gen26.jpg', new_image)"
   ]
  },
  {
   "cell_type": "code",
   "execution_count": null,
   "metadata": {},
   "outputs": [],
   "source": []
  }
 ],
 "metadata": {
  "kernelspec": {
   "display_name": "Python 3",
   "language": "python",
   "name": "python3"
  },
  "language_info": {
   "codemirror_mode": {
    "name": "ipython",
    "version": 3
   },
   "file_extension": ".py",
   "mimetype": "text/x-python",
   "name": "python",
   "nbconvert_exporter": "python",
   "pygments_lexer": "ipython3",
   "version": "3.6.6"
  }
 },
 "nbformat": 4,
 "nbformat_minor": 2
}
